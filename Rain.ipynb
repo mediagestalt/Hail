{
 "cells": [
  {
   "cell_type": "markdown",
   "metadata": {},
   "source": [
    "# Parsing Rain Data Files"
   ]
  },
  {
   "cell_type": "markdown",
   "metadata": {},
   "source": [
    "The purpose of the following code is to parse the Rain data from the <i>The Alberta Hail Project Meteorological and Barge-Humphries Radar Archive</i> and output it to a `.CSV` file.\n",
    "\n",
    "The data consists of rain measurements and observations submitted by Alberta farmers between the period of 1974 and 1985. \n",
    "\n",
    "The data exists as a directory of `.DAT` files which were manually converted to `.TXT` files (by changing the extension). Then, using regular expressions (also known as regex), the data is split apart and recombined into a nested list format allowing for export to a `.CSV` file."
   ]
  },
  {
   "cell_type": "markdown",
   "metadata": {},
   "source": [
    "-----"
   ]
  },
  {
   "cell_type": "markdown",
   "metadata": {},
   "source": [
    "This code imports the modules and defines the custom functions that are needed to parse the rain data. The comments coloured in light blue and red describe the individual code."
   ]
  },
  {
   "cell_type": "code",
   "execution_count": 1,
   "metadata": {
    "collapsed": true
   },
   "outputs": [],
   "source": [
    "import re\n",
    "import csv\n",
    "from os import listdir\n",
    "from os.path import splitext\n",
    "from os.path import basename\n",
    "\n",
    "# This function works on the contents of the files\n",
    "\n",
    "def read_file(filename):\n",
    "    \"Read the contents of FILENAME and return as a string.\"\n",
    "    infile = open(filename)\n",
    "    contents = infile.read()\n",
    "    infile.close()\n",
    "    return contents\n",
    "\n",
    "# These functions remove the the path and file extension from a filename\n",
    "\n",
    "def list_textfiles(directory):\n",
    "    \"Return a list of filenames ending in '.txt'\"\n",
    "    textfiles = []\n",
    "    for filename in listdir(directory):\n",
    "        if filename.endswith(\".txt\"):\n",
    "            textfiles.append(directory + \"/\" + filename)\n",
    "    return textfiles\n",
    "\n",
    "\n",
    "def remove_ext(filename):\n",
    "    \"Removes the file extension, such as .txt\"\n",
    "    name, extension = splitext(filename)\n",
    "    return name\n",
    "\n",
    "\n",
    "def remove_dir(filepath):\n",
    "    \"Removes the path from the file name\"\n",
    "    name = basename(filepath)\n",
    "    return name\n",
    "\n",
    "\n",
    "def get_filename(filepath):\n",
    "    \"Removes the path and file extension from the file name\"\n",
    "    filename = remove_ext(filepath)\n",
    "    name = remove_dir(filename)\n",
    "    return name"
   ]
  },
  {
   "cell_type": "markdown",
   "metadata": {},
   "source": [
    "Below is a list of the files in the Rain directory that need to be parsed. This list is helpful because we will need to manually change the filename in the next section of code in order to parse each file separately. \n",
    "\n",
    "The function `listdir` is called to display the files contained in the specified directory, shown below in red text."
   ]
  },
  {
   "cell_type": "code",
   "execution_count": 2,
   "metadata": {
    "collapsed": false
   },
   "outputs": [
    {
     "name": "stdout",
     "output_type": "stream",
     "text": [
      "['74RAIN.txt', '75RAIN.txt', '76RAIN.txt', '77RAIN.txt', '78RAIN.txt', '79RAIN.txt', '80RAIN.txt', '81RAIN.txt', '82RAIN.txt', '83RAIN.txt', '84RAIN.txt', '85RAIN.txt']\n"
     ]
    }
   ],
   "source": [
    "print(listdir('Rain/'))"
   ]
  },
  {
   "cell_type": "markdown",
   "metadata": {},
   "source": [
    "This is where the raw data is imported and assigned to a variable. To read a different file from the directory, the filename needs to be changed (based on the above list). It's important to note that the original data is never altered, only the data that is loaded and assigned to the `file` variable."
   ]
  },
  {
   "cell_type": "code",
   "execution_count": 3,
   "metadata": {
    "collapsed": true
   },
   "outputs": [],
   "source": [
    "file = 'Rain/76RAIN.txt'"
   ]
  },
  {
   "cell_type": "markdown",
   "metadata": {},
   "source": [
    "This code calls on a custom function `get_filename` to strip the path and file extension from the filename, storing it in the variable `name`. This variable will be used later to name the `.CSV` file so it matches the name of the `.TXT` file from which the data came. \n",
    "\n",
    "Then, the data from the variable `file` is read using the custom function `read_file` and passed to a regex that matches the format of the file (seen in red text)."
   ]
  },
  {
   "cell_type": "code",
   "execution_count": 4,
   "metadata": {
    "collapsed": false
   },
   "outputs": [],
   "source": [
    "name = get_filename(file)\n",
    "text = read_file(file)\n",
    "\n",
    "data = re.findall(r'(\\s)(\\d{1})(\\d{2})(\\d{1})(\\d{2})(\\d{4})(\\d{2})(\\d{2})(\\d{2})(\\d{1})(\\d{4})(\\d{3})(\\d{3})', text, re.MULTILINE)"
   ]
  },
  {
   "cell_type": "markdown",
   "metadata": {},
   "source": [
    "Here's a look at the original data format. Each string of numbers is a separate entry consisting of groups of numbers that correspond to a specific data point, ranging from dates, times, geographical information, and rain duration."
   ]
  },
  {
   "cell_type": "code",
   "execution_count": 5,
   "metadata": {
    "collapsed": false
   },
   "outputs": [
    {
     "name": "stdout",
     "output_type": "stream",
     "text": [
      "Rain/76RAIN.txt\n",
      " 07663011010901144\n",
      " 07662511013026025\n",
      " 07662411012440015\n",
      " 07660101110108174\n",
      " 07660200011362015\n",
      " 07660201112362015\n"
     ]
    }
   ],
   "source": [
    "print(file)\n",
    "print(text[:113])"
   ]
  },
  {
   "cell_type": "markdown",
   "metadata": {},
   "source": [
    "Here is the data formatted by the regex. The first digit indicates the origin of the report (via mail-in card, etc.), the second is the year, and the third and fourth are the month and day. The data was parsed according to the information provided by the accompanying <a href= 'hailcode.html' target=_blank>codebook</a>."
   ]
  },
  {
   "cell_type": "code",
   "execution_count": 6,
   "metadata": {
    "collapsed": false
   },
   "outputs": [
    {
     "name": "stdout",
     "output_type": "stream",
     "text": [
      "[(' ', '0', '76', '6', '05', '0010', '02', '42', '22', '4', '1830', '999', '184')]\n"
     ]
    }
   ],
   "source": [
    "print(data[:1])"
   ]
  },
  {
   "cell_type": "markdown",
   "metadata": {},
   "source": [
    "Now the data can be converted to `.CSV`. This code uses the `name` variable that was created earlier to name the file and writes each group of data to one line in the file. "
   ]
  },
  {
   "cell_type": "code",
   "execution_count": 7,
   "metadata": {
    "collapsed": true
   },
   "outputs": [],
   "source": [
    "with open(name + '.csv', 'w') as f:\n",
    "    w = csv.writer(f)\n",
    "    w.writerows(data)"
   ]
  },
  {
   "cell_type": "markdown",
   "metadata": {},
   "source": [
    "-----"
   ]
  },
  {
   "cell_type": "markdown",
   "metadata": {},
   "source": [
    "This code reads all of the files and prints each line to one master `.CSV` file. The only extra step required is in the fourth chunk of code, where the master list needs to be flattened so that each string of data appears in its own row in the file."
   ]
  },
  {
   "cell_type": "code",
   "execution_count": 8,
   "metadata": {
    "collapsed": false
   },
   "outputs": [],
   "source": [
    "filenames = []\n",
    "for files in list_textfiles('Rain/'):\n",
    "    files = get_filename(files)\n",
    "    filenames.append(files)"
   ]
  },
  {
   "cell_type": "code",
   "execution_count": 9,
   "metadata": {
    "collapsed": true
   },
   "outputs": [],
   "source": [
    "docs = []\n",
    "for filename in list_textfiles('Rain/'):\n",
    "    docs.append(read_file(filename))"
   ]
  },
  {
   "cell_type": "code",
   "execution_count": 10,
   "metadata": {
    "collapsed": false
   },
   "outputs": [],
   "source": [
    "data_2 = []\n",
    "for doc in docs:\n",
    "    data_2.append(re.findall(r'(\\s)(\\d{1})(\\d{2})(\\d{1})(\\d{2})(\\d{4})(\\d{2})(\\d{2})(\\d{2})(\\d{1})(\\d{4})(\\d{3})(\\d{3})', doc, re.MULTILINE))"
   ]
  },
  {
   "cell_type": "code",
   "execution_count": 11,
   "metadata": {
    "collapsed": true
   },
   "outputs": [],
   "source": [
    "alldata = [line for sublist in data_2 for line in sublist]"
   ]
  },
  {
   "cell_type": "code",
   "execution_count": 12,
   "metadata": {
    "collapsed": false
   },
   "outputs": [],
   "source": [
    "with open('allRain.csv', 'w') as f:\n",
    "    w = csv.writer(f)\n",
    "    w.writerows(alldata)"
   ]
  }
 ],
 "metadata": {
  "kernelspec": {
   "display_name": "Python 3",
   "language": "python",
   "name": "python3"
  },
  "language_info": {
   "codemirror_mode": {
    "name": "ipython",
    "version": 3
   },
   "file_extension": ".py",
   "mimetype": "text/x-python",
   "name": "python",
   "nbconvert_exporter": "python",
   "pygments_lexer": "ipython3",
   "version": "3.5.0"
  }
 },
 "nbformat": 4,
 "nbformat_minor": 0
}
